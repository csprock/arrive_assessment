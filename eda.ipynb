{
 "cells": [
  {
   "cell_type": "markdown",
   "id": "7b0edc14-736e-436b-a55e-fbfed23b8ba9",
   "metadata": {},
   "source": [
    "# Onion Price Data Analysis\n",
    "\n",
    "Compiled for Arrive Logistics by Carson Sprock"
   ]
  },
  {
   "cell_type": "code",
   "execution_count": 1,
   "id": "394ac7ef-6b94-41bf-871d-b3745b82676f",
   "metadata": {},
   "outputs": [],
   "source": [
    "import pandas as pd\n",
    "import seaborn as sns\n",
    "import matplotlib.pyplot as plt\n",
    "import numpy as np\n",
    "\n",
    "import random\n",
    "\n",
    "from pydlc import dense_lines\n",
    "\n",
    "from prophet import Prophet"
   ]
  },
  {
   "cell_type": "code",
   "execution_count": 2,
   "id": "35491748-4687-4450-8280-e6a7cbd5cbfd",
   "metadata": {},
   "outputs": [],
   "source": [
    "df = pd.read_csv(\"data/onion_prices_2020.csv\")\n",
    "df['arrival_date'] = pd.to_datetime(df.arrival_date, dayfirst=True)\n",
    "df.drop('commodity',axis=1, inplace = True)\n",
    "\n",
    "# create price spread variable\n",
    "df['spread'] = df['max_price'] - df['min_price']\n",
    "\n",
    "# create variables for the week and month\n",
    "dt_idx_tmp = pd.DatetimeIndex(df['arrival_date'])\n",
    "df['week'] = pd.PeriodIndex(dt_idx_tmp, freq=\"W\")\n",
    "df['month'] = pd.PeriodIndex(df['arrival_date'], freq=\"M\")\n",
    "df['date'] = dt_idx_tmp\n",
    "\n",
    "df.drop_duplicates(inplace=True)\n",
    "\n",
    "total_weeks = df.week.nunique()"
   ]
  },
  {
   "cell_type": "code",
   "execution_count": 3,
   "id": "aad7ae5b-69d5-4c81-b119-4b1b419cc6b3",
   "metadata": {},
   "outputs": [
    {
     "data": {
      "text/html": [
       "<div>\n",
       "<style scoped>\n",
       "    .dataframe tbody tr th:only-of-type {\n",
       "        vertical-align: middle;\n",
       "    }\n",
       "\n",
       "    .dataframe tbody tr th {\n",
       "        vertical-align: top;\n",
       "    }\n",
       "\n",
       "    .dataframe thead th {\n",
       "        text-align: right;\n",
       "    }\n",
       "</style>\n",
       "<table border=\"1\" class=\"dataframe\">\n",
       "  <thead>\n",
       "    <tr style=\"text-align: right;\">\n",
       "      <th></th>\n",
       "      <th>state</th>\n",
       "      <th>district</th>\n",
       "      <th>market</th>\n",
       "      <th>variety</th>\n",
       "      <th>arrival_date</th>\n",
       "      <th>min_price</th>\n",
       "      <th>max_price</th>\n",
       "      <th>modal_price</th>\n",
       "      <th>spread</th>\n",
       "      <th>week</th>\n",
       "      <th>month</th>\n",
       "      <th>date</th>\n",
       "    </tr>\n",
       "  </thead>\n",
       "  <tbody>\n",
       "    <tr>\n",
       "      <th>0</th>\n",
       "      <td>Andhra Pradesh</td>\n",
       "      <td>Kurnool</td>\n",
       "      <td>Kurnool</td>\n",
       "      <td>Local</td>\n",
       "      <td>2020-01-03</td>\n",
       "      <td>1350</td>\n",
       "      <td>4390</td>\n",
       "      <td>3100.0</td>\n",
       "      <td>3040</td>\n",
       "      <td>2019-12-30/2020-01-05</td>\n",
       "      <td>2020-01</td>\n",
       "      <td>2020-01-03</td>\n",
       "    </tr>\n",
       "    <tr>\n",
       "      <th>1</th>\n",
       "      <td>Andhra Pradesh</td>\n",
       "      <td>Kurnool</td>\n",
       "      <td>Kurnool</td>\n",
       "      <td>Local</td>\n",
       "      <td>2020-01-04</td>\n",
       "      <td>1390</td>\n",
       "      <td>4400</td>\n",
       "      <td>3200.0</td>\n",
       "      <td>3010</td>\n",
       "      <td>2019-12-30/2020-01-05</td>\n",
       "      <td>2020-01</td>\n",
       "      <td>2020-01-04</td>\n",
       "    </tr>\n",
       "    <tr>\n",
       "      <th>2</th>\n",
       "      <td>Andhra Pradesh</td>\n",
       "      <td>Kurnool</td>\n",
       "      <td>Kurnool</td>\n",
       "      <td>Local</td>\n",
       "      <td>2020-01-06</td>\n",
       "      <td>1460</td>\n",
       "      <td>5150</td>\n",
       "      <td>4310.0</td>\n",
       "      <td>3690</td>\n",
       "      <td>2020-01-06/2020-01-12</td>\n",
       "      <td>2020-01</td>\n",
       "      <td>2020-01-06</td>\n",
       "    </tr>\n",
       "    <tr>\n",
       "      <th>3</th>\n",
       "      <td>Andhra Pradesh</td>\n",
       "      <td>Kurnool</td>\n",
       "      <td>Kurnool</td>\n",
       "      <td>Local</td>\n",
       "      <td>2020-01-07</td>\n",
       "      <td>2010</td>\n",
       "      <td>5200</td>\n",
       "      <td>4200.0</td>\n",
       "      <td>3190</td>\n",
       "      <td>2020-01-06/2020-01-12</td>\n",
       "      <td>2020-01</td>\n",
       "      <td>2020-01-07</td>\n",
       "    </tr>\n",
       "    <tr>\n",
       "      <th>4</th>\n",
       "      <td>Andhra Pradesh</td>\n",
       "      <td>Kurnool</td>\n",
       "      <td>Kurnool</td>\n",
       "      <td>Local</td>\n",
       "      <td>2020-01-10</td>\n",
       "      <td>1320</td>\n",
       "      <td>4050</td>\n",
       "      <td>3300.0</td>\n",
       "      <td>2730</td>\n",
       "      <td>2020-01-06/2020-01-12</td>\n",
       "      <td>2020-01</td>\n",
       "      <td>2020-01-10</td>\n",
       "    </tr>\n",
       "  </tbody>\n",
       "</table>\n",
       "</div>"
      ],
      "text/plain": [
       "            state district   market variety arrival_date  min_price  \\\n",
       "0  Andhra Pradesh  Kurnool  Kurnool   Local   2020-01-03       1350   \n",
       "1  Andhra Pradesh  Kurnool  Kurnool   Local   2020-01-04       1390   \n",
       "2  Andhra Pradesh  Kurnool  Kurnool   Local   2020-01-06       1460   \n",
       "3  Andhra Pradesh  Kurnool  Kurnool   Local   2020-01-07       2010   \n",
       "4  Andhra Pradesh  Kurnool  Kurnool   Local   2020-01-10       1320   \n",
       "\n",
       "   max_price  modal_price  spread                   week    month       date  \n",
       "0       4390       3100.0    3040  2019-12-30/2020-01-05  2020-01 2020-01-03  \n",
       "1       4400       3200.0    3010  2019-12-30/2020-01-05  2020-01 2020-01-04  \n",
       "2       5150       4310.0    3690  2020-01-06/2020-01-12  2020-01 2020-01-06  \n",
       "3       5200       4200.0    3190  2020-01-06/2020-01-12  2020-01 2020-01-07  \n",
       "4       4050       3300.0    2730  2020-01-06/2020-01-12  2020-01 2020-01-10  "
      ]
     },
     "execution_count": 3,
     "metadata": {},
     "output_type": "execute_result"
    }
   ],
   "source": [
    "df.head()"
   ]
  },
  {
   "cell_type": "markdown",
   "id": "472a0ee6-3ac7-432a-9b36-72afe96bbdc4",
   "metadata": {
    "tags": []
   },
   "source": [
    "# Contents\n",
    "\n",
    "1. Data Cleanup and EDA\n",
    "2. Combining Price Series\n",
    "3. Forecasting\n",
    "\n",
    "\n",
    "# 1. Data Cleanup and EDA"
   ]
  },
  {
   "cell_type": "markdown",
   "id": "ec8d8ab0-dcb5-4b33-9805-9433c116f11e",
   "metadata": {},
   "source": [
    "Since most forecasting techniques require evenly-spaced time intervals, we work with weekly price average, starting at the market/variety level (the most granular). "
   ]
  },
  {
   "cell_type": "code",
   "execution_count": 4,
   "id": "98701968-5b0e-4678-9907-d9e8808ba12f",
   "metadata": {},
   "outputs": [],
   "source": [
    "df = df.groupby(by=['state', 'district', 'market', 'variety', 'week']).mean().sort_index()"
   ]
  },
  {
   "cell_type": "markdown",
   "id": "c66581b9-9711-4030-89d5-f47085525b34",
   "metadata": {},
   "source": [
    "## Summary Statistics\n",
    "\n",
    "With so many different time series, may questions arise, such as:\n",
    "1. Can we forecast each individual time series?\n",
    "2. Is the data too sparse?\n",
    "3. Is there some level of aggregation (state, district, market, variety) that would make forecasting tractable? And if so, how do we decide how to combine?\n",
    "\n",
    "\n",
    "## Basic Summary Statistics"
   ]
  },
  {
   "cell_type": "code",
   "execution_count": 5,
   "id": "ce192adf-5a5d-430d-9af4-a6169ca26603",
   "metadata": {},
   "outputs": [
    {
     "data": {
      "text/html": [
       "<div>\n",
       "<style scoped>\n",
       "    .dataframe tbody tr th:only-of-type {\n",
       "        vertical-align: middle;\n",
       "    }\n",
       "\n",
       "    .dataframe tbody tr th {\n",
       "        vertical-align: top;\n",
       "    }\n",
       "\n",
       "    .dataframe thead th {\n",
       "        text-align: right;\n",
       "    }\n",
       "</style>\n",
       "<table border=\"1\" class=\"dataframe\">\n",
       "  <thead>\n",
       "    <tr style=\"text-align: right;\">\n",
       "      <th></th>\n",
       "      <th>district</th>\n",
       "      <th>market</th>\n",
       "      <th>variety</th>\n",
       "    </tr>\n",
       "    <tr>\n",
       "      <th>state</th>\n",
       "      <th></th>\n",
       "      <th></th>\n",
       "      <th></th>\n",
       "    </tr>\n",
       "  </thead>\n",
       "  <tbody>\n",
       "    <tr>\n",
       "      <th>Andhra Pradesh</th>\n",
       "      <td>1</td>\n",
       "      <td>2</td>\n",
       "      <td>1</td>\n",
       "    </tr>\n",
       "    <tr>\n",
       "      <th>Chattisgarh</th>\n",
       "      <td>4</td>\n",
       "      <td>4</td>\n",
       "      <td>2</td>\n",
       "    </tr>\n",
       "    <tr>\n",
       "      <th>Goa</th>\n",
       "      <td>1</td>\n",
       "      <td>1</td>\n",
       "      <td>1</td>\n",
       "    </tr>\n",
       "    <tr>\n",
       "      <th>Gujarat</th>\n",
       "      <td>18</td>\n",
       "      <td>27</td>\n",
       "      <td>7</td>\n",
       "    </tr>\n",
       "    <tr>\n",
       "      <th>Haryana</th>\n",
       "      <td>21</td>\n",
       "      <td>67</td>\n",
       "      <td>5</td>\n",
       "    </tr>\n",
       "    <tr>\n",
       "      <th>Himachal Pradesh</th>\n",
       "      <td>10</td>\n",
       "      <td>25</td>\n",
       "      <td>3</td>\n",
       "    </tr>\n",
       "    <tr>\n",
       "      <th>Jammu and Kashmir</th>\n",
       "      <td>6</td>\n",
       "      <td>10</td>\n",
       "      <td>2</td>\n",
       "    </tr>\n",
       "    <tr>\n",
       "      <th>Jharkhand</th>\n",
       "      <td>2</td>\n",
       "      <td>2</td>\n",
       "      <td>3</td>\n",
       "    </tr>\n",
       "    <tr>\n",
       "      <th>Karnataka</th>\n",
       "      <td>21</td>\n",
       "      <td>49</td>\n",
       "      <td>10</td>\n",
       "    </tr>\n",
       "    <tr>\n",
       "      <th>Kerala</th>\n",
       "      <td>12</td>\n",
       "      <td>62</td>\n",
       "      <td>4</td>\n",
       "    </tr>\n",
       "    <tr>\n",
       "      <th>Madhya Pradesh</th>\n",
       "      <td>32</td>\n",
       "      <td>56</td>\n",
       "      <td>5</td>\n",
       "    </tr>\n",
       "    <tr>\n",
       "      <th>Maharashtra</th>\n",
       "      <td>21</td>\n",
       "      <td>92</td>\n",
       "      <td>8</td>\n",
       "    </tr>\n",
       "    <tr>\n",
       "      <th>NCT of Delhi</th>\n",
       "      <td>1</td>\n",
       "      <td>3</td>\n",
       "      <td>3</td>\n",
       "    </tr>\n",
       "    <tr>\n",
       "      <th>Nagaland</th>\n",
       "      <td>1</td>\n",
       "      <td>1</td>\n",
       "      <td>1</td>\n",
       "    </tr>\n",
       "    <tr>\n",
       "      <th>Odisha</th>\n",
       "      <td>21</td>\n",
       "      <td>60</td>\n",
       "      <td>7</td>\n",
       "    </tr>\n",
       "    <tr>\n",
       "      <th>Punjab</th>\n",
       "      <td>22</td>\n",
       "      <td>98</td>\n",
       "      <td>7</td>\n",
       "    </tr>\n",
       "    <tr>\n",
       "      <th>Rajasthan</th>\n",
       "      <td>23</td>\n",
       "      <td>45</td>\n",
       "      <td>6</td>\n",
       "    </tr>\n",
       "    <tr>\n",
       "      <th>Telangana</th>\n",
       "      <td>2</td>\n",
       "      <td>5</td>\n",
       "      <td>1</td>\n",
       "    </tr>\n",
       "    <tr>\n",
       "      <th>Tripura</th>\n",
       "      <td>6</td>\n",
       "      <td>16</td>\n",
       "      <td>6</td>\n",
       "    </tr>\n",
       "    <tr>\n",
       "      <th>Uttar Pradesh</th>\n",
       "      <td>69</td>\n",
       "      <td>223</td>\n",
       "      <td>10</td>\n",
       "    </tr>\n",
       "    <tr>\n",
       "      <th>Uttrakhand</th>\n",
       "      <td>6</td>\n",
       "      <td>18</td>\n",
       "      <td>1</td>\n",
       "    </tr>\n",
       "    <tr>\n",
       "      <th>West Bengal</th>\n",
       "      <td>17</td>\n",
       "      <td>43</td>\n",
       "      <td>7</td>\n",
       "    </tr>\n",
       "  </tbody>\n",
       "</table>\n",
       "</div>"
      ],
      "text/plain": [
       "                   district  market  variety\n",
       "state                                       \n",
       "Andhra Pradesh            1       2        1\n",
       "Chattisgarh               4       4        2\n",
       "Goa                       1       1        1\n",
       "Gujarat                  18      27        7\n",
       "Haryana                  21      67        5\n",
       "Himachal Pradesh         10      25        3\n",
       "Jammu and Kashmir         6      10        2\n",
       "Jharkhand                 2       2        3\n",
       "Karnataka                21      49       10\n",
       "Kerala                   12      62        4\n",
       "Madhya Pradesh           32      56        5\n",
       "Maharashtra              21      92        8\n",
       "NCT of Delhi              1       3        3\n",
       "Nagaland                  1       1        1\n",
       "Odisha                   21      60        7\n",
       "Punjab                   22      98        7\n",
       "Rajasthan                23      45        6\n",
       "Telangana                 2       5        1\n",
       "Tripura                   6      16        6\n",
       "Uttar Pradesh            69     223       10\n",
       "Uttrakhand                6      18        1\n",
       "West Bengal              17      43        7"
      ]
     },
     "execution_count": 5,
     "metadata": {},
     "output_type": "execute_result"
    }
   ],
   "source": [
    "# number of districts, markets and varieties by state\n",
    "summary_stats = df.reset_index(level=['district', 'market', 'variety']).groupby(by='state').nunique()[['district', 'market', 'variety']]\n",
    "summary_stats"
   ]
  },
  {
   "cell_type": "code",
   "execution_count": 6,
   "id": "ffc54355-81e0-4803-b3db-82d638a1cd04",
   "metadata": {},
   "outputs": [
    {
     "data": {
      "text/html": [
       "<div>\n",
       "<style scoped>\n",
       "    .dataframe tbody tr th:only-of-type {\n",
       "        vertical-align: middle;\n",
       "    }\n",
       "\n",
       "    .dataframe tbody tr th {\n",
       "        vertical-align: top;\n",
       "    }\n",
       "\n",
       "    .dataframe thead th {\n",
       "        text-align: right;\n",
       "    }\n",
       "</style>\n",
       "<table border=\"1\" class=\"dataframe\">\n",
       "  <thead>\n",
       "    <tr style=\"text-align: right;\">\n",
       "      <th></th>\n",
       "      <th>Count</th>\n",
       "    </tr>\n",
       "  </thead>\n",
       "  <tbody>\n",
       "    <tr>\n",
       "      <th>state</th>\n",
       "      <td>22</td>\n",
       "    </tr>\n",
       "    <tr>\n",
       "      <th>district</th>\n",
       "      <td>315</td>\n",
       "    </tr>\n",
       "    <tr>\n",
       "      <th>market</th>\n",
       "      <td>905</td>\n",
       "    </tr>\n",
       "    <tr>\n",
       "      <th>variety</th>\n",
       "      <td>21</td>\n",
       "    </tr>\n",
       "  </tbody>\n",
       "</table>\n",
       "</div>"
      ],
      "text/plain": [
       "          Count\n",
       "state        22\n",
       "district    315\n",
       "market      905\n",
       "variety      21"
      ]
     },
     "execution_count": 6,
     "metadata": {},
     "output_type": "execute_result"
    }
   ],
   "source": [
    "# number of states, districts, markets and varieties\n",
    "counts = dict()\n",
    "for val in ['state', 'district', 'market', 'variety']:\n",
    "    counts.update({val:df.index.get_level_values(val).nunique()})\n",
    "\n",
    "pd.DataFrame.from_dict(counts, orient='index').rename(columns={0:'Count'})"
   ]
  },
  {
   "cell_type": "markdown",
   "id": "e1ccd9f9-b900-4ab8-a072-dce18d8c915f",
   "metadata": {},
   "source": [
    "Next we look at the relationship between the number of districts, markets and varieties within each state. We do this because it seems likely that larger and more populous states will have a larger number of districts and markets and that a larger number of varieties will be sold. The plots below show positive relationships between all these. "
   ]
  },
  {
   "cell_type": "code",
   "execution_count": 7,
   "id": "23b31cea-f4be-4ab9-a540-f7c2bcc3edc2",
   "metadata": {},
   "outputs": [
    {
     "data": {
      "text/plain": [
       "<AxesSubplot:xlabel='district', ylabel='variety'>"
      ]
     },
     "execution_count": 7,
     "metadata": {},
     "output_type": "execute_result"
    },
    {
     "data": {
      "image/png": "[encoded data removed]",
      "text/plain": [
       "<Figure size 936x360 with 3 Axes>"
      ]
     },
     "metadata": {
      "needs_background": "light"
     },
     "output_type": "display_data"
    }
   ],
   "source": [
    "fig = plt.figure(figsize=(13,5))\n",
    "ax = fig.add_subplot(1,3,1)\n",
    "ax2 = fig.add_subplot(1,3,2)\n",
    "ax3 = fig.add_subplot(1,3,3)\n",
    "\n",
    "\n",
    "summary_stats.plot(x='market', y='variety', kind='scatter', ax=ax)\n",
    "summary_stats.plot(x='district', y='market', kind='scatter', ax=ax2)\n",
    "summary_stats.plot(x='district', y='variety', kind='scatter', ax=ax3)"
   ]
  },
  {
   "cell_type": "markdown",
   "id": "8816967d-7b1d-4747-8251-b7062117390a",
   "metadata": {},
   "source": [
    "## Missing Data and Completeness\n",
    "\n",
    "Next we look for missing data in our time series. There are 38 weeks in the series. If there are too many missing points, then we may have to drop that series from the analysis.\n",
    "\n",
    "The histogram on the left shows the distribution of data completeness as expressed as the ratio of the number of weeks with complete data to the number of weeks in the series (38). The data is at *market* level of aggregation. As we can see, most of the data is at least 80% complete, but there is a significant number of markets that have a large number of missing weeks. \n",
    "\n",
    "The bar chart on the right shows the number of markets that have less than 50, 75 and 90 percent of weekly data available. If we were to exclude all markets that had less than 75% of their data complete, we would have to remove over 450 markets from consideration, which is nearly half of the number of markets. \n",
    "\n",
    "There could be ligitimate reasons for the missing data, such as markets being closed during parts of the year, or certain varieties only being seasonal. All of these are topics for further exploration. "
   ]
  },
  {
   "cell_type": "code",
   "execution_count": 8,
   "id": "5bf77df0-abfb-4269-b98d-76908bce7046",
   "metadata": {},
   "outputs": [
    {
     "data": {
      "text/plain": [
       "<AxesSubplot:>"
      ]
     },
     "execution_count": 8,
     "metadata": {},
     "output_type": "execute_result"
    },
    {
     "data": {
      "image/png": "[encoded data removed]",
      "text/plain": [
       "<Figure size 936x360 with 2 Axes>"
      ]
     },
     "metadata": {
      "needs_background": "light"
     },
     "output_type": "display_data"
    }
   ],
   "source": [
    "# percent weeks complete\n",
    "\n",
    "fig = plt.figure(figsize=(13,5))\n",
    "ax = fig.add_subplot(1,2,1)\n",
    "ax2 = fig.add_subplot(1,2,2)\n",
    "\n",
    "\n",
    "fig.subplots_adjust(wspace=0.5)\n",
    "\n",
    "weekly_coverage_df = df.reset_index(level='week').groupby(by=['state', 'district', 'market']).nunique()[['week']].rename(columns={'week':'Number of Series'}) / total_weeks\n",
    "weekly_coverage_df.plot(kind='hist', bins=20, ax=ax)\n",
    "\n",
    "pd.DataFrame.from_dict({\n",
    "    '50th':(weekly_coverage_df < 0.5).sum(),\n",
    "    '75th':(weekly_coverage_df < 0.75).sum(),\n",
    "    '90th':(weekly_coverage_df < 0.90).sum()\n",
    "}, orient='index').rename(columns={'week':'Markets'}).plot(kind='barh', ax=ax2)"
   ]
  },
  {
   "cell_type": "markdown",
   "id": "1ddeb0d4-2fc1-4b27-bd8d-aaf601ddd8d8",
   "metadata": {},
   "source": [
    "Below we look at the relationship between the number of markets in a district and the average completeness of each market's data. The rationale for looking at the relationship is that more populous and more developed areas of the country might have better recordkeeping. However, the chart shows there doesn't appear to be any relationship. "
   ]
  },
  {
   "cell_type": "code",
   "execution_count": 9,
   "id": "a80d952e-ae13-4266-b24b-04568bbc83a2",
   "metadata": {},
   "outputs": [
    {
     "data": {
      "text/plain": [
       "<AxesSubplot:xlabel='market', ylabel='Average Completeness'>"
      ]
     },
     "execution_count": 9,
     "metadata": {},
     "output_type": "execute_result"
    },
    {
     "data": {
      "image/png": "[encoded data removed]",
      "text/plain": [
       "<Figure size 432x288 with 1 Axes>"
      ]
     },
     "metadata": {
      "needs_background": "light"
     },
     "output_type": "display_data"
    }
   ],
   "source": [
    "weekly_coverage_combined_df = weekly_coverage_df.groupby(by='state').mean().join(summary_stats).rename(columns={'Number of Series':'Average Completeness'})\n",
    "sns.regplot(data=weekly_coverage_combined_df, x='market',  y='Average Completeness', lowess=True)"
   ]
  },
  {
   "cell_type": "markdown",
   "id": "a78b64ff-9dcc-4b21-89f7-4c44a86966e0",
   "metadata": {},
   "source": [
    "We now remove all price series that are less than 75% complete. "
   ]
  },
  {
   "cell_type": "code",
   "execution_count": 10,
   "id": "46370fbb-5197-4afc-b50a-fddd0e3f22ee",
   "metadata": {},
   "outputs": [],
   "source": [
    "df = df.join(weekly_coverage_df).rename(columns={'Number of Series':'pct_complete'})\n",
    "# remove everything below 80% complete\n",
    "df = df.loc[~(df.pct_complete < 0.75), :]"
   ]
  },
  {
   "cell_type": "markdown",
   "id": "6a514614-1c99-4bbc-855f-2a08339a3552",
   "metadata": {},
   "source": [
    "## Examining Pairwise Relationships\n",
    "\n",
    "Next we examine pairwise relationships between each variety of onion at the market-level. Specifically, we compute\n",
    "\n",
    "* correlations between the prices of each variety at each market\n",
    "* the average price spread between each variety at each market\n",
    "* the ratio of the average price spread to the maximum price spread\n",
    "\n",
    "The pairwise correlations are particularly important since we will later be aggregating prices into a single weighted price series. If prices between varieties are correlated, this has a reasonable chance of capturing the aggregate price of onions. \n",
    "\n",
    "The average price spread tells us how close together two price series tend to be. \n",
    "\n",
    "The ratio of the average weekly price spread to the maximum observed weekly price spread gives us a rough estimate of how much time the the two prices remained near their maximum spread. This gives us a rough measure price divergence over time between two varieties within a market. \n",
    "\n",
    "### Interpretation\n",
    "\n",
    "#### Pairwise Correlation\n",
    "The histogram of pairwise correlations in the upper-left plot show a positive skew towards 1. This is the expected result and is encouraging for the purposes of creating an aggregate price series through averaging. It says the prices of different varieties within each market are correlated with each other. We could extend this analysis to pairwise prices at higher levels of aggregration, such as the state and district level. \n",
    "\n",
    "We also note that price correlation and the mean price spread appear to be negatively correlated. This is also expected since if prices were negatively correlated, we would expect them to diverge and increase the average price spread between them. \n",
    "\n",
    "We also see no relationship between correlation and the spread ratio. \n",
    "\n",
    "#### Mean Spread\n",
    "\n",
    "The mean pairwise price spread is right-skewed towards 0, which tells us that in general, the prices of different varieties of onions at the same market tend to be close to each other. \n",
    "\n",
    "#### Spread Ratio\n",
    "The ratio of the mean spread to the maximum observed spread shows that the bulk of the distribution is below 0.5 and centered about 0.25. This means that the mean spread between prices is only 25% of the maximum observed spread, indicating there was a one point a large divergence in prices for most of these pairwise series. "
   ]
  },
  {
   "cell_type": "code",
   "execution_count": 11,
   "id": "023a4a70-509f-47e9-845c-d4705f8923c7",
   "metadata": {},
   "outputs": [
    {
     "data": {
      "text/plain": [
       "<seaborn.axisgrid.PairGrid at 0x7fa04a43b8b0>"
      ]
     },
     "execution_count": 11,
     "metadata": {},
     "output_type": "execute_result"
    },
    {
     "data": {
      "image/png": "[encoded data removed]",
      "text/plain": [
       "<Figure size 648x648 with 9 Axes>"
      ]
     },
     "metadata": {
      "needs_background": "light"
     },
     "output_type": "display_data"
    }
   ],
   "source": [
    "temp_df = df.groupby(by=['state', 'district', 'market', 'week']).mean().sort_index()\n",
    "\n",
    "from itertools import combinations\n",
    "\n",
    "idx = pd.IndexSlice\n",
    "pairwise_values = {}\n",
    "\n",
    "for _, (state, district) in temp_df.index.to_frame()[['state', 'district']].drop_duplicates().iterrows():\n",
    "    \n",
    "    _indexer = idx[state, district]\n",
    "    markets = temp_df.loc[_indexer].index.get_level_values(0).unique().tolist()\n",
    "    \n",
    "    for c in combinations(markets, 2):\n",
    "        pairs = pd.merge(\n",
    "            temp_df.loc[idx[state, district, c[0], :], 'modal_price'],\n",
    "            temp_df.loc[idx[state, district, c[1], :], 'modal_price'],\n",
    "            on='week'\n",
    "        )\n",
    "        \n",
    "        \n",
    "        spread = np.abs(pairs.iloc[:, 0] - pairs.iloc[:, 1])\n",
    "        mean_spread = np.mean(spread)\n",
    "        \n",
    "        values = {\n",
    "            (state, district, c[0], c[1]):{\n",
    "                'correlation' : pairs.corr().iloc[0][1],\n",
    "                'mean_spread':mean_spread,\n",
    "                'spread_ratio': np.nan if mean_spread == 0 else mean_spread / np.max(spread)\n",
    "            }\n",
    "            \n",
    "        }\n",
    "        \n",
    "        pairwise_values.update(values)\n",
    "        \n",
    "pairs_df = pd.DataFrame.from_dict(pairwise_values, orient='index')\n",
    "\n",
    "sns.pairplot(pairs_df, height=3, corner=True)"
   ]
  },
  {
   "cell_type": "markdown",
   "id": "f7ddfd6b-8632-40ae-953d-efec8d837d46",
   "metadata": {},
   "source": [
    "# 2. Combining Price Series\n",
    "\n",
    "There are two approaches to forecasting the data. We can try and make individual forecasts for various levels of aggregation (state, district, market, variety, etc). To combinatorically simplify things, we try and construct an aggregated price series weighted by both how common each variety is and how \"important\" each state is based on the number of markets in that state. \n",
    "\n",
    "The weighted price series is constructed in two parts. The first part computes a weekly weighted average price for each market where the weights are based on how common the each variety is across the whole data set. The next step aggregates these series into a weighted average price where the weights are based on the number of markets in each state. \n",
    "\n",
    "The idea behind the weights is that the price of the most common onion varieties are more important when measuring the effect of price changes on the average consumer. Since it is likely that the number of markets in a state is related to its population, it is reasonable to use the number of markets as a proxy for the size of the state. Large states that contain more people should have a larger influence on the price series because the prices in those states effect the greatest number of people.\n",
    "\n",
    "The weights are calculated as follows: \n",
    "\n",
    "$$\n",
    "\\text{weight for ith variety} = \\frac{\\text{number of markets selling the $i$th variety}}{\\text{total number of markets}}\n",
    "$$\n",
    "\n",
    "$$\n",
    "\\text{weight for the jth state} = \\frac{\\text{number of markets in the $j$th state}}{\\text{total number of markets}}\n",
    "$$\n",
    "\n",
    "The two bar charts below show the numerators used for each respective calculation and show how each variety and state will be weighted in the new price series. (Note that \"Other\" is the most common variety, and is likely composed of many different varieties and probably should be excluded or down-weighted in a real analysis). "
   ]
  },
  {
   "cell_type": "code",
   "execution_count": 12,
   "id": "1788b697-46d6-4145-8ed9-a2af4a4fd60f",
   "metadata": {},
   "outputs": [
    {
     "data": {
      "text/plain": [
       "<AxesSubplot:ylabel='state'>"
      ]
     },
     "execution_count": 12,
     "metadata": {},
     "output_type": "execute_result"
    },
    {
     "data": {
      "image/png": "[encoded data removed]",
      "text/plain": [
       "<Figure size 936x360 with 2 Axes>"
      ]
     },
     "metadata": {
      "needs_background": "light"
     },
     "output_type": "display_data"
    }
   ],
   "source": [
    "# getting the most common onion variety\n",
    "\n",
    "fig = plt.figure(figsize=(13,5))\n",
    "ax = fig.add_subplot(1,2,1)\n",
    "ax1 = fig.add_subplot(1,2,2)\n",
    "\n",
    "fig.subplots_adjust(wspace=0.5)\n",
    "\n",
    "market_share_df = df.reset_index(level='market')[['market']].groupby(by=['variety']).nunique()\n",
    "market_share_df.sort_values(by='market', ascending=True).rename(columns={'market':'Market Share'}).plot(kind='barh', ax=ax)\n",
    "\n",
    "markets_per_state_df = df.reset_index(level='market')[['market']].groupby(by=['state']).nunique()\n",
    "markets_per_state_df.sort_values(by='market', ascending=True).rename(columns={'market':'Number of Markets'}).plot(kind='barh', ax=ax1)"
   ]
  },
  {
   "cell_type": "code",
   "execution_count": 13,
   "id": "4f043127-c047-4b6f-b72a-d7f80537e9aa",
   "metadata": {},
   "outputs": [],
   "source": [
    "def grouped_weighted_average(group, weight_col, quantity_col):\n",
    "    d = group[quantity_col]\n",
    "    w = group[weight_col]\n",
    "    return (w * d).sum() / w.sum()\n",
    "\n",
    "# compute weights\n",
    "state_weight = markets_per_state_df / markets_per_state_df.sum()\n",
    "variety_weight = market_share_df / market_share_df.sum()\n",
    "\n",
    "# join weights to dataframe for processing\n",
    "df = df.join(state_weight, on='state').rename(columns={'market':'state_weight'}).join(variety_weight, on='variety').rename(columns={'market':'variety_weight'})\n",
    "# compute weighted average of the price for each week using the variety weights\n",
    "temp_df = df.groupby(by=['state', 'district', 'market', 'week']).apply(grouped_weighted_average, weight_col='variety_weight', quantity_col='modal_price')\n",
    "# now compute the weighted average of the price series at the state-level\n",
    "temp_df = pd.DataFrame(temp_df, columns=['w_modal_price']).join(state_weight, on='state').groupby(by=['week']).apply(grouped_weighted_average, weight_col='market', quantity_col='w_modal_price')"
   ]
  },
  {
   "cell_type": "code",
   "execution_count": 14,
   "id": "267b4391-3fb5-42a3-b9e1-892ac0e152ec",
   "metadata": {},
   "outputs": [
    {
     "data": {
      "text/plain": [
       "<AxesSubplot:title={'center':'Aggregate Onion Price Series'}, xlabel='Week', ylabel='Price'>"
      ]
     },
     "execution_count": 14,
     "metadata": {},
     "output_type": "execute_result"
    },
    {
     "data": {
      "image/png": "[encoded data removed]",
      "text/plain": [
       "<Figure size 432x288 with 1 Axes>"
      ]
     },
     "metadata": {
      "needs_background": "light"
     },
     "output_type": "display_data"
    }
   ],
   "source": [
    "temp_df.plot(title=\"Aggregate Onion Price Series\",ylabel=\"Price\", xlabel=\"Week\")"
   ]
  },
  {
   "cell_type": "markdown",
   "id": "a11d5785-683f-4192-a4c8-713c1515ab54",
   "metadata": {},
   "source": [
    "# 3. Forecasting\n",
    "\n",
    "For forecasting, we use Prophet (because I've been wanting to try it out for a while). "
   ]
  },
  {
   "cell_type": "code",
   "execution_count": null,
   "id": "91671587-dd06-4a3f-9dcc-17a46eae839b",
   "metadata": {},
   "outputs": [],
   "source": []
  },
  {
   "cell_type": "code",
   "execution_count": 15,
   "id": "77a5f16d-77eb-43fb-9da4-b1576ff601f2",
   "metadata": {},
   "outputs": [],
   "source": [
    "p_df = pd.DataFrame.from_dict({'ds':temp_df.index.to_timestamp(), 'y':temp_df.values})"
   ]
  },
  {
   "cell_type": "code",
   "execution_count": 16,
   "id": "ac43f8f1-618a-421a-95e8-69df42456b35",
   "metadata": {},
   "outputs": [],
   "source": [
    "split_point = '2020-08-01'\n",
    "\n",
    "train = p_df.loc[p_df.ds < split_point]\n",
    "test = p_df.loc[p_df.ds >= split_point]\n",
    "\n",
    "#changepoints = ['2020-06-01', '2020-02-10']"
   ]
  },
  {
   "cell_type": "code",
   "execution_count": 17,
   "id": "2f2dbc4f-b1c2-4120-b5ed-d311a60e1adc",
   "metadata": {},
   "outputs": [],
   "source": [
    "n_days_ahead = (test.ds.max() - test.ds.min()).days"
   ]
  },
  {
   "cell_type": "markdown",
   "id": "92252492-35fc-4a74-9a79-e73ef311033e",
   "metadata": {},
   "source": [
    "The \"changepoint_prior_scale\" parameter controls the sparsity of the changepoints. Since this data curve is relatively smooth, we do not wish to overfit it by fitting the curve to closely so we set the the prior scale lower than the default (which is 0.5). "
   ]
  },
  {
   "cell_type": "code",
   "execution_count": 18,
   "id": "fb99b453-ff04-4217-8071-24411a02f940",
   "metadata": {},
   "outputs": [],
   "source": [
    "model = Prophet(changepoint_prior_scale=0.1)"
   ]
  },
  {
   "cell_type": "code",
   "execution_count": 19,
   "id": "0655d3b8-b3ec-448c-b28b-c778d4217365",
   "metadata": {},
   "outputs": [
    {
     "name": "stderr",
     "output_type": "stream",
     "text": [
      "INFO:prophet:Disabling yearly seasonality. Run prophet with yearly_seasonality=True to override this.\n",
      "INFO:prophet:Disabling weekly seasonality. Run prophet with weekly_seasonality=True to override this.\n",
      "INFO:prophet:Disabling daily seasonality. Run prophet with daily_seasonality=True to override this.\n",
      "INFO:prophet:n_changepoints greater than number of observations. Using 23.\n"
     ]
    },
    {
     "name": "stdout",
     "output_type": "stream",
     "text": [
      "\n",
      "Initial log joint probability = -0.89229\n"
     ]
    },
    {
     "data": {
      "text/plain": [
       "<prophet.forecaster.Prophet at 0x7fa04a3f58b0>"
      ]
     },
     "execution_count": 19,
     "metadata": {},
     "output_type": "execute_result"
    },
    {
     "name": "stdout",
     "output_type": "stream",
     "text": [
      "Iteration  1. Log joint probability =    21.2075. Improved by 22.0998.\n",
      "Iteration  2. Log joint probability =    40.3326. Improved by 19.1251.\n",
      "Iteration  3. Log joint probability =    51.9831. Improved by 11.6505.\n",
      "Iteration  4. Log joint probability =    53.4241. Improved by 1.44104.\n",
      "Iteration  5. Log joint probability =      53.58. Improved by 0.155877.\n",
      "Iteration  6. Log joint probability =    53.5895. Improved by 0.00951512.\n",
      "Iteration  7. Log joint probability =    53.5936. Improved by 0.00408992.\n",
      "Iteration  8. Log joint probability =    53.7066. Improved by 0.113025.\n",
      "Iteration  9. Log joint probability =    59.7255. Improved by 6.01886.\n",
      "Iteration 10. Log joint probability =    59.7363. Improved by 0.0108278.\n",
      "Iteration 11. Log joint probability =    59.7526. Improved by 0.0163219.\n",
      "Iteration 12. Log joint probability =    59.7542. Improved by 0.00155027.\n",
      "Iteration 13. Log joint probability =    59.8356. Improved by 0.081428.\n",
      "Iteration 14. Log joint probability =    59.9337. Improved by 0.0981057.\n",
      "Iteration 15. Log joint probability =    60.1936. Improved by 0.259828.\n",
      "Iteration 16. Log joint probability =    60.2917. Improved by 0.0981517.\n",
      "Iteration 17. Log joint probability =    60.6598. Improved by 0.368073.\n",
      "Iteration 18. Log joint probability =    61.2935. Improved by 0.63375.\n",
      "Iteration 19. Log joint probability =    61.9614. Improved by 0.667911.\n",
      "Iteration 20. Log joint probability =    63.7045. Improved by 1.7431.\n",
      "Iteration 21. Log joint probability =    63.7101. Improved by 0.00553135.\n",
      "Iteration 22. Log joint probability =    64.0918. Improved by 0.381765.\n",
      "Iteration 23. Log joint probability =    64.1346. Improved by 0.0427394.\n",
      "Iteration 24. Log joint probability =    64.1362. Improved by 0.00158447.\n",
      "Iteration 25. Log joint probability =    65.8032. Improved by 1.66705.\n",
      "Iteration 26. Log joint probability =     66.372. Improved by 0.568749.\n",
      "Iteration 27. Log joint probability =    70.4219. Improved by 4.04997.\n",
      "Iteration 28. Log joint probability =    70.4882. Improved by 0.0662676.\n",
      "Iteration 29. Log joint probability =    70.5385. Improved by 0.0502459.\n",
      "Iteration 30. Log joint probability =    70.5551. Improved by 0.0166811.\n",
      "Iteration 31. Log joint probability =    71.8277. Improved by 1.27253.\n",
      "Iteration 32. Log joint probability =    71.8364. Improved by 0.00875823.\n",
      "Iteration 33. Log joint probability =    71.8898. Improved by 0.053423.\n",
      "Iteration 34. Log joint probability =    72.5886. Improved by 0.698726.\n",
      "Iteration 35. Log joint probability =    72.7694. Improved by 0.180883.\n",
      "Iteration 36. Log joint probability =      73.98. Improved by 1.21058.\n",
      "Iteration 37. Log joint probability =    74.1214. Improved by 0.141409.\n",
      "Iteration 38. Log joint probability =    74.2743. Improved by 0.152905.\n",
      "Iteration 39. Log joint probability =    74.4131. Improved by 0.138718.\n",
      "Iteration 40. Log joint probability =    75.7251. Improved by 1.31209.\n",
      "Iteration 41. Log joint probability =    75.8704. Improved by 0.145296.\n",
      "Iteration 42. Log joint probability =    76.2965. Improved by 0.426008.\n",
      "Iteration 43. Log joint probability =    76.3092. Improved by 0.0127471.\n",
      "Iteration 44. Log joint probability =    76.3105. Improved by 0.00133537.\n",
      "Iteration 45. Log joint probability =    76.3408. Improved by 0.0302488.\n",
      "Iteration 46. Log joint probability =    76.4388. Improved by 0.0979759.\n",
      "Iteration 47. Log joint probability =    76.9552. Improved by 0.516486.\n",
      "Iteration 48. Log joint probability =     76.968. Improved by 0.0127272.\n",
      "Iteration 49. Log joint probability =     77.299. Improved by 0.331051.\n",
      "Iteration 50. Log joint probability =      77.33. Improved by 0.031003.\n",
      "Iteration 51. Log joint probability =    77.3551. Improved by 0.0250563.\n",
      "Iteration 52. Log joint probability =    77.5169. Improved by 0.161818.\n",
      "Iteration 53. Log joint probability =    77.6924. Improved by 0.175544.\n",
      "Iteration 54. Log joint probability =    77.7149. Improved by 0.0224198.\n",
      "Iteration 55. Log joint probability =    77.7228. Improved by 0.00790336.\n",
      "Iteration 56. Log joint probability =    77.7248. Improved by 0.00203954.\n",
      "Iteration 57. Log joint probability =    77.7256. Improved by 0.000769084.\n",
      "Iteration 58. Log joint probability =     77.736. Improved by 0.0103994.\n",
      "Iteration 59. Log joint probability =     77.741. Improved by 0.00497726.\n",
      "Iteration 60. Log joint probability =    77.7432. Improved by 0.00220612.\n",
      "Iteration 61. Log joint probability =    77.7435. Improved by 0.000290549.\n",
      "Iteration 62. Log joint probability =    77.7462. Improved by 0.00274274.\n",
      "Iteration 63. Log joint probability =    77.7464. Improved by 0.00023557.\n",
      "Iteration 64. Log joint probability =    77.7479. Improved by 0.00150582.\n",
      "Iteration 65. Log joint probability =    77.7489. Improved by 0.000976286.\n",
      "Iteration 66. Log joint probability =    77.7496. Improved by 0.000661277.\n",
      "Iteration 67. Log joint probability =    77.7502. Improved by 0.000621716.\n",
      "Iteration 68. Log joint probability =    77.7503. Improved by 0.000136708.\n",
      "Iteration 69. Log joint probability =    77.7513. Improved by 0.000927014.\n",
      "Iteration 70. Log joint probability =    77.7515. Improved by 0.00026961.\n",
      "Iteration 71. Log joint probability =     77.752. Improved by 0.000503171.\n",
      "Iteration 72. Log joint probability =    77.7524. Improved by 0.000402506.\n",
      "Iteration 73. Log joint probability =    77.7526. Improved by 0.000136818.\n",
      "Iteration 74. Log joint probability =    77.7527. Improved by 0.000103098.\n",
      "Iteration 75. Log joint probability =    77.7529. Improved by 0.000203638.\n",
      "Iteration 76. Log joint probability =    77.7531. Improved by 0.000206183.\n",
      "Iteration 77. Log joint probability =    77.7532. Improved by 9.77526e-05.\n",
      "Iteration 78. Log joint probability =    77.7532. Improved by 3.27041e-05.\n",
      "Iteration 79. Log joint probability =    77.7533. Improved by 0.000120762.\n",
      "Iteration 80. Log joint probability =    77.7534. Improved by 5.17453e-05.\n",
      "Iteration 81. Log joint probability =    77.7534. Improved by 2.56529e-05.\n",
      "Iteration 82. Log joint probability =    77.7534. Improved by 1.19358e-05.\n",
      "Iteration 83. Log joint probability =    77.7534. Improved by 9.56747e-06.\n",
      "Iteration 84. Log joint probability =    77.7534. Improved by 6.00308e-06.\n",
      "Iteration 85. Log joint probability =    77.7534. Improved by 9.61097e-06.\n",
      "Iteration 86. Log joint probability =    77.7535. Improved by 9.03495e-06.\n",
      "Iteration 87. Log joint probability =    77.7535. Improved by 1.11432e-05.\n",
      "Iteration 88. Log joint probability =    77.7535. Improved by 7.82521e-07.\n",
      "Iteration 89. Log joint probability =    77.7535. Improved by 3.17388e-06.\n",
      "Iteration 90. Log joint probability =    77.7535. Improved by 2.84993e-06.\n",
      "Iteration 91. Log joint probability =    77.7535. Improved by 1.17309e-06.\n",
      "Iteration 92. Log joint probability =    77.7535. Improved by 2.2888e-06.\n",
      "Iteration 93. Log joint probability =    77.7535. Improved by 2.46428e-06.\n",
      "Iteration 94. Log joint probability =    77.7535. Improved by 1.05474e-06.\n",
      "Iteration 95. Log joint probability =    77.7535. Improved by 1.81554e-08.\n",
      "Iteration 96. Log joint probability =    77.7535. Improved by 9.6119e-08.\n",
      "Iteration 97. Log joint probability =    77.7535. Improved by 5.66475e-08.\n",
      "Iteration 98. Log joint probability =    77.7535. Improved by 9.23489e-07.\n",
      "Iteration 99. Log joint probability =    77.7535. Improved by 1.68936e-07.\n",
      "Iteration 100. Log joint probability =    77.7535. Improved by 1.82516e-07.\n",
      "Iteration 101. Log joint probability =    77.7535. Improved by 1.96584e-07.\n",
      "Iteration 102. Log joint probability =    77.7535. Improved by 9.72827e-08.\n",
      "Iteration 103. Log joint probability =    77.7535. Improved by 1.22685e-08.\n",
      "Iteration 104. Log joint probability =    77.7535. Improved by 9.94252e-08.\n",
      "Iteration 105. Log joint probability =    77.7535. Improved by 3.45025e-08.\n",
      "Iteration 106. Log joint probability =    77.7535. Improved by 1.16183e-08.\n",
      "Iteration 107. Log joint probability =    77.7535. Improved by 1.48993e-07.\n",
      "Iteration 108. Log joint probability =    77.7535. Improved by 1.73073e-08.\n",
      "Iteration 109. Log joint probability =    77.7535. Improved by 3.07593e-08.\n",
      "Iteration 110. Log joint probability =    77.7535. Improved by 2.27765e-08.\n",
      "Iteration 111. Log joint probability =    77.7535. Improved by 3.87871e-08.\n",
      "Iteration 112. Log joint probability =    77.7535. Improved by 1.52223e-08.\n",
      "Iteration 113. Log joint probability =    77.7535. Improved by 9.24922e-09.\n"
     ]
    }
   ],
   "source": [
    "model.fit(train)"
   ]
  },
  {
   "cell_type": "code",
   "execution_count": 20,
   "id": "fd538f54-458c-4bd1-a00f-0a4c707484be",
   "metadata": {},
   "outputs": [],
   "source": [
    "future_ds = model.make_future_dataframe(periods=n_days_ahead)\n",
    "predictions = model.predict(future_ds)"
   ]
  },
  {
   "cell_type": "markdown",
   "id": "ac462ffe-4ae0-4a2f-b5d0-87b4713f34eb",
   "metadata": {},
   "source": [
    "#### Results\n",
    "\n",
    "From the plot below, we can see that the model is underfitting and is not able to capture the change in trend that happens after the forecast. It is possible that we need more data so that if there is a historical pattern of price increases following a period of flat prices. \n",
    "\n",
    "Economic price data tends to be driven by external variables and pure time series models such as Prophet will have a hard time detecting change points unless they follow a pattern and since this time series contains no such pattern (because its too short) or is driven by exogenous factors. \n",
    "\n",
    "We compute the mean absolute percent error on the test set below. For a good discussion of the limitations of this measure, see https://otexts.com/fpp3/accuracy.html#percentage-errors. "
   ]
  },
  {
   "cell_type": "code",
   "execution_count": 21,
   "id": "9ca2fea8-7b2e-4e57-aee3-324df36c6b45",
   "metadata": {},
   "outputs": [
    {
     "data": {
      "text/plain": [
       "<AxesSubplot:xlabel='ds', ylabel='y'>"
      ]
     },
     "execution_count": 21,
     "metadata": {},
     "output_type": "execute_result"
    },
    {
     "data": {
      "image/png": "[encoded data removed]",
      "text/plain": [
       "<Figure size 720x360 with 1 Axes>"
      ]
     },
     "metadata": {
      "needs_background": "light"
     },
     "output_type": "display_data"
    }
   ],
   "source": [
    "fig = plt.figure(figsize=(10,5))\n",
    "ax = fig.add_subplot(1,1,1)\n",
    "\n",
    "\n",
    "model.plot(predictions, ax=ax)\n",
    "test.plot(y='y', x='ds', ax=ax, color='red', label='Hold-out set')"
   ]
  },
  {
   "cell_type": "code",
   "execution_count": 22,
   "id": "5c063817-2c53-4502-b42e-1c3850a270a1",
   "metadata": {},
   "outputs": [
    {
     "name": "stdout",
     "output_type": "stream",
     "text": [
      "Mean Absolute Percent Error: 0.36637475646128953\n"
     ]
    }
   ],
   "source": [
    "predictions.set_index('ds', drop=True, inplace=True)\n",
    "test.set_index('ds', drop=True, inplace=True)\n",
    "combined = predictions.join(test, on='ds', how='inner')[['yhat', 'y']]\n",
    "mape = np.sum(np.abs((combined.yhat - combined.y) / combined.y))\n",
    "print(\"Mean Absolute Percent Error: {mape}\".format(mape=mape))"
   ]
  }
 ],
 "metadata": {
  "kernelspec": {
   "display_name": "Python 3 (ipykernel)",
   "language": "python",
   "name": "python3"
  },
  "language_info": {
   "codemirror_mode": {
    "name": "ipython",
    "version": 3
   },
   "file_extension": ".py",
   "mimetype": "text/x-python",
   "name": "python",
   "nbconvert_exporter": "python",
   "pygments_lexer": "ipython3",
   "version": "3.9.7"
  }
 },
 "nbformat": 4,
 "nbformat_minor": 5
}
